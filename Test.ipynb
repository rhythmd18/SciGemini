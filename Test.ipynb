{
 "cells": [
  {
   "cell_type": "code",
   "execution_count": 2,
   "id": "df647f08-ff8a-46cc-97a0-1105c397c54a",
   "metadata": {},
   "outputs": [],
   "source": [
    "from langchain.chains import LLMChain\n",
    "from langchain.memory import ConversationBufferMemory\n",
    "from langchain.prompts import PromptTemplate\n",
    "import google.generativeai as genai\n",
    "from langchain_google_genai import ChatGoogleGenerativeAI\n",
    "import streamlit as st"
   ]
  },
  {
   "cell_type": "code",
   "execution_count": 3,
   "id": "f8c96bcd-4095-44f3-bf00-5e61d1dfe431",
   "metadata": {},
   "outputs": [],
   "source": [
    "GOOGLE_API_KEY = st.secrets[\"GOOGLE_API_KEY\"]"
   ]
  },
  {
   "cell_type": "code",
   "execution_count": 4,
   "id": "078aaafe-7d17-49f5-8aad-2034aaf29cae",
   "metadata": {},
   "outputs": [],
   "source": [
    "model = ChatGoogleGenerativeAI(model='gemini-pro', google_api_key=GOOGLE_API_KEY)"
   ]
  },
  {
   "cell_type": "code",
   "execution_count": 5,
   "id": "6ca731bf-45b6-4800-be1c-27c921f9ffac",
   "metadata": {},
   "outputs": [],
   "source": [
    "memory = ConversationBufferMemory(memory_key='chat_history', input_key='human_input')"
   ]
  },
  {
   "cell_type": "code",
   "execution_count": 6,
   "id": "f161cc60-979c-48fd-b9f6-9f0be8295254",
   "metadata": {},
   "outputs": [],
   "source": [
    "memory.save_context({'human_input': 'What\\'s your name?'}, {'output': 'Gemini'})"
   ]
  },
  {
   "cell_type": "code",
   "execution_count": 7,
   "id": "d7ced200-023f-4b10-b738-78bb6e10f548",
   "metadata": {},
   "outputs": [
    {
     "data": {
      "text/plain": [
       "{'chat_history': \"Human: What's your name?\\nAI: Gemini\"}"
      ]
     },
     "execution_count": 7,
     "metadata": {},
     "output_type": "execute_result"
    }
   ],
   "source": [
    "memory.load_memory_variables({})"
   ]
  },
  {
   "cell_type": "code",
   "execution_count": 8,
   "id": "576d8e74",
   "metadata": {},
   "outputs": [],
   "source": [
    "name = 'Rhythm Dutta'"
   ]
  },
  {
   "cell_type": "code",
   "execution_count": 9,
   "id": "230c0f9f-4f9d-4b8b-8585-9d04dc869fb1",
   "metadata": {},
   "outputs": [],
   "source": [
    "template = '''\n",
    "You are a friendly chatbot whose responses are not that long.\\\n",
    "You are talking to a person whose name is {name}\n",
    "{chat_history}\n",
    "Human: {human_input}'''\n",
    "\n",
    "prompt = PromptTemplate(\n",
    "    input_variables=['name', 'chat_history', 'human_input'],\n",
    "    template=template\n",
    ")\n",
    "\n",
    "llmchain = LLMChain(\n",
    "    memory=memory,\n",
    "    prompt=prompt,\n",
    "    llm=model,\n",
    "    verbose=True\n",
    ")"
   ]
  },
  {
   "cell_type": "code",
   "execution_count": 10,
   "id": "1b7dbeee-4695-484b-82ac-31728f23bef7",
   "metadata": {},
   "outputs": [
    {
     "data": {
      "text/plain": [
       "{'chat_history': \"Human: What's your name?\\nAI: Gemini\"}"
      ]
     },
     "execution_count": 10,
     "metadata": {},
     "output_type": "execute_result"
    }
   ],
   "source": [
    "memory.load_memory_variables({})"
   ]
  },
  {
   "cell_type": "code",
   "execution_count": 11,
   "id": "15c218ae-253f-4848-a64f-801dbf0280f2",
   "metadata": {},
   "outputs": [
    {
     "name": "stdout",
     "output_type": "stream",
     "text": [
      "\n",
      "\n",
      "\u001b[1m> Entering new LLMChain chain...\u001b[0m\n",
      "Prompt after formatting:\n",
      "\u001b[32;1m\u001b[1;3m\n",
      "You are a friendly chatbot whose responses are not that long.You are talking to a person whose name is Rhythm Dutta\n",
      "Human: What's your name?\n",
      "AI: Gemini\n",
      "Human: Okay! do you know what is Iran's capital?\u001b[0m\n",
      "\n",
      "\u001b[1m> Finished chain.\u001b[0m\n"
     ]
    },
    {
     "data": {
      "text/plain": [
       "'Tehran'"
      ]
     },
     "execution_count": 11,
     "metadata": {},
     "output_type": "execute_result"
    }
   ],
   "source": [
    "llmchain.run({'name': name, 'human_input': 'Okay! do you know what is Iran\\'s capital?'})"
   ]
  },
  {
   "cell_type": "code",
   "execution_count": 12,
   "id": "44ad20ea-8376-47d3-a7a0-a82e0550370a",
   "metadata": {},
   "outputs": [
    {
     "name": "stdout",
     "output_type": "stream",
     "text": [
      "\n",
      "\n",
      "\u001b[1m> Entering new LLMChain chain...\u001b[0m\n",
      "Prompt after formatting:\n",
      "\u001b[32;1m\u001b[1;3m\n",
      "You are a friendly chatbot whose responses are not that long.You are talking to a person whose name is Rhythm Dutta\n",
      "Human: What's your name?\n",
      "AI: Gemini\n",
      "Human: Okay! do you know what is Iran's capital?\n",
      "AI: Tehran\n",
      "Human: Do you know who I am?\u001b[0m\n"
     ]
    },
    {
     "name": "stdout",
     "output_type": "stream",
     "text": [
      "\n",
      "\u001b[1m> Finished chain.\u001b[0m\n"
     ]
    },
    {
     "data": {
      "text/plain": [
       "'AI: I am not familiar with you yet. Would you like to introduce yourself?'"
      ]
     },
     "execution_count": 12,
     "metadata": {},
     "output_type": "execute_result"
    }
   ],
   "source": [
    "llmchain.run({'human_input': 'Do you know who I am?', 'name': name})"
   ]
  },
  {
   "cell_type": "code",
   "execution_count": 13,
   "id": "91e69e65-ba48-45b3-a42d-fee39802313b",
   "metadata": {},
   "outputs": [
    {
     "name": "stdout",
     "output_type": "stream",
     "text": [
      "\n",
      "\n",
      "\u001b[1m> Entering new LLMChain chain...\u001b[0m\n",
      "Prompt after formatting:\n",
      "\u001b[32;1m\u001b[1;3m\n",
      "You are a friendly chatbot whose responses are not that long.You are talking to a person whose name is Rhythm Dutta\n",
      "Human: What's your name?\n",
      "AI: Gemini\n",
      "Human: Okay! do you know what is Iran's capital?\n",
      "AI: Tehran\n",
      "Human: Do you know who I am?\n",
      "AI: AI: I am not familiar with you yet. Would you like to introduce yourself?\n",
      "Human: Do you know my name?\u001b[0m\n"
     ]
    },
    {
     "name": "stdout",
     "output_type": "stream",
     "text": [
      "\n",
      "\u001b[1m> Finished chain.\u001b[0m\n"
     ]
    },
    {
     "data": {
      "text/plain": [
       "'AI: I apologize, I do not have access to personal information and cannot know your name unless you tell me.'"
      ]
     },
     "execution_count": 13,
     "metadata": {},
     "output_type": "execute_result"
    }
   ],
   "source": [
    "llmchain.run({'human_input': 'Do you know my name?', 'name': name})"
   ]
  },
  {
   "cell_type": "code",
   "execution_count": 13,
   "id": "b0411986-86af-4917-be92-e5ef72afd4b4",
   "metadata": {},
   "outputs": [
    {
     "name": "stdout",
     "output_type": "stream",
     "text": [
      "\n",
      "\n",
      "\u001b[1m> Entering new LLMChain chain...\u001b[0m\n",
      "Prompt after formatting:\n",
      "\u001b[32;1m\u001b[1;3m\n",
      "You are a friendly chatbot whose responses are not that long.You are talking to a person whose name is Rhythm Dutta\n",
      "Human: What's your name?\n",
      "AI: Gemini\n",
      "Human: Okay! do you know what is Iran's capital?\n",
      "AI: Yes, it's Tehran.\n",
      "Human: Do you know who I am?\n",
      "AI: AI: I don't know you personally, Rhythm. However, I can access information about people with that name.\n",
      "Human: Do you know my name?\n",
      "AI: AI: I can confirm that I know your name is Rhythm Dutta.\n",
      "Human: Now give me a detailed description of the laws of gravitation with proper headings and subheadings so that it can be rendered properly by markdown syntax\u001b[0m\n",
      "\n",
      "\u001b[1m> Finished chain.\u001b[0m\n"
     ]
    },
    {
     "data": {
      "text/plain": [
       "\"Sure, here's a detailed description of the laws of gravitation with proper headings and subheadings:\\n\\n# Laws of Gravitation\\n\\n## Newton's Law of Universal Gravitation\\n\\n- Every particle of matter in the universe attracts every other particle with a force proportional to the product of their masses and inversely proportional to the square of the distance between their centers.\\n\\n## Key Points\\n\\n- Force of attraction is directly proportional to the product of the masses of the two objects.\\n- Force of attraction is inversely proportional to the square of the distance between the two objects.\\n- The gravitational force is always attractive, never repulsive.\\n- The gravitational force is a fundamental force of nature, meaning that it is not derived from any other force.\\n\\n## Characteristics of Gravitational Force\\n\\n- Universality: Every mass in the Universe attracts every other mass.\\n- Additivity: The gravitational force between two objects is the vector sum of the gravitational forces between all the particles in the two objects.\\n- Conservation: The total gravitational force in a closed system remains constant.\\n- Independence: The gravitational force between two objects is independent of the presence of any other objects.\\n\\n## Applications of the Laws of Gravitation\\n\\nThe laws of gravitation have a wide range of applications, including:\\n\\n- Calculating the motion of planets, moons, and other celestial objects.\\n- Determining the mass of planets and other celestial objects.\\n- Predicting the tides.\\n- Designing rockets and other spacecraft.\\n- Studying the structure of atoms and molecules.\\n\\nI hope this information is helpful.\""
      ]
     },
     "execution_count": 13,
     "metadata": {},
     "output_type": "execute_result"
    }
   ],
   "source": [
    "llmchain.run({'human_input': 'Now give me a detailed description of the laws of gravitation with proper headings and subheadings so that it can be rendered properly by markdown syntax', 'name': name})"
   ]
  },
  {
   "cell_type": "code",
   "execution_count": 14,
   "id": "015ffa0e",
   "metadata": {},
   "outputs": [
    {
     "name": "stdout",
     "output_type": "stream",
     "text": [
      "\n",
      "\n",
      "\u001b[1m> Entering new LLMChain chain...\u001b[0m\n",
      "Prompt after formatting:\n",
      "\u001b[32;1m\u001b[1;3m\n",
      "You are a friendly chatbot whose responses are not that long.You are talking to a person whose name is Rhythm Dutta\n",
      "Human: What's your name?\n",
      "AI: Gemini\n",
      "Human: Okay! do you know what is Iran's capital?\n",
      "AI: Yes, it's Tehran.\n",
      "Human: Do you know who I am?\n",
      "AI: AI: I don't know you personally, Rhythm. However, I can access information about people with that name.\n",
      "Human: Do you know my name?\n",
      "AI: AI: I can confirm that I know your name is Rhythm Dutta.\n",
      "Human: Now give me a detailed description of the laws of gravitation with proper headings and subheadings so that it can be rendered properly by markdown syntax\n",
      "AI: Sure, here's a detailed description of the laws of gravitation with proper headings and subheadings:\n",
      "\n",
      "# Laws of Gravitation\n",
      "\n",
      "## Newton's Law of Universal Gravitation\n",
      "\n",
      "- Every particle of matter in the universe attracts every other particle with a force proportional to the product of their masses and inversely proportional to the square of the distance between their centers.\n",
      "\n",
      "## Key Points\n",
      "\n",
      "- Force of attraction is directly proportional to the product of the masses of the two objects.\n",
      "- Force of attraction is inversely proportional to the square of the distance between the two objects.\n",
      "- The gravitational force is always attractive, never repulsive.\n",
      "- The gravitational force is a fundamental force of nature, meaning that it is not derived from any other force.\n",
      "\n",
      "## Characteristics of Gravitational Force\n",
      "\n",
      "- Universality: Every mass in the Universe attracts every other mass.\n",
      "- Additivity: The gravitational force between two objects is the vector sum of the gravitational forces between all the particles in the two objects.\n",
      "- Conservation: The total gravitational force in a closed system remains constant.\n",
      "- Independence: The gravitational force between two objects is independent of the presence of any other objects.\n",
      "\n",
      "## Applications of the Laws of Gravitation\n",
      "\n",
      "The laws of gravitation have a wide range of applications, including:\n",
      "\n",
      "- Calculating the motion of planets, moons, and other celestial objects.\n",
      "- Determining the mass of planets and other celestial objects.\n",
      "- Predicting the tides.\n",
      "- Designing rockets and other spacecraft.\n",
      "- Studying the structure of atoms and molecules.\n",
      "\n",
      "I hope this information is helpful.\n",
      "Human: Thanks a lot!\u001b[0m\n"
     ]
    },
    {
     "name": "stderr",
     "output_type": "stream",
     "text": [
      "Retrying langchain_google_genai.chat_models._chat_with_retry.<locals>._chat_with_retry in 2.0 seconds as it raised InternalServerError: 500 An internal error has occurred. Please retry or report in https://developers.generativeai.google/guide/troubleshooting.\n"
     ]
    },
    {
     "name": "stdout",
     "output_type": "stream",
     "text": [
      "\n",
      "\u001b[1m> Finished chain.\u001b[0m\n"
     ]
    },
    {
     "data": {
      "text/plain": [
       "\"You're welcome, Rhythm! I'm glad I could be of assistance.\""
      ]
     },
     "execution_count": 14,
     "metadata": {},
     "output_type": "execute_result"
    }
   ],
   "source": [
    "llmchain.run({'human_input': 'Thanks a lot!', 'name': name})"
   ]
  },
  {
   "cell_type": "code",
   "execution_count": 15,
   "id": "f56118b8",
   "metadata": {},
   "outputs": [
    {
     "name": "stdout",
     "output_type": "stream",
     "text": [
      "\n",
      "\n",
      "\u001b[1m> Entering new LLMChain chain...\u001b[0m\n",
      "Prompt after formatting:\n",
      "\u001b[32;1m\u001b[1;3m\n",
      "You are a friendly chatbot whose responses are not that long.You are talking to a person whose name is Rhythm Dutta\n",
      "Human: What's your name?\n",
      "AI: Gemini\n",
      "Human: Okay! do you know what is Iran's capital?\n",
      "AI: Yes, it's Tehran.\n",
      "Human: Do you know who I am?\n",
      "AI: AI: I don't know you personally, Rhythm. However, I can access information about people with that name.\n",
      "Human: Do you know my name?\n",
      "AI: AI: I can confirm that I know your name is Rhythm Dutta.\n",
      "Human: Now give me a detailed description of the laws of gravitation with proper headings and subheadings so that it can be rendered properly by markdown syntax\n",
      "AI: Sure, here's a detailed description of the laws of gravitation with proper headings and subheadings:\n",
      "\n",
      "# Laws of Gravitation\n",
      "\n",
      "## Newton's Law of Universal Gravitation\n",
      "\n",
      "- Every particle of matter in the universe attracts every other particle with a force proportional to the product of their masses and inversely proportional to the square of the distance between their centers.\n",
      "\n",
      "## Key Points\n",
      "\n",
      "- Force of attraction is directly proportional to the product of the masses of the two objects.\n",
      "- Force of attraction is inversely proportional to the square of the distance between the two objects.\n",
      "- The gravitational force is always attractive, never repulsive.\n",
      "- The gravitational force is a fundamental force of nature, meaning that it is not derived from any other force.\n",
      "\n",
      "## Characteristics of Gravitational Force\n",
      "\n",
      "- Universality: Every mass in the Universe attracts every other mass.\n",
      "- Additivity: The gravitational force between two objects is the vector sum of the gravitational forces between all the particles in the two objects.\n",
      "- Conservation: The total gravitational force in a closed system remains constant.\n",
      "- Independence: The gravitational force between two objects is independent of the presence of any other objects.\n",
      "\n",
      "## Applications of the Laws of Gravitation\n",
      "\n",
      "The laws of gravitation have a wide range of applications, including:\n",
      "\n",
      "- Calculating the motion of planets, moons, and other celestial objects.\n",
      "- Determining the mass of planets and other celestial objects.\n",
      "- Predicting the tides.\n",
      "- Designing rockets and other spacecraft.\n",
      "- Studying the structure of atoms and molecules.\n",
      "\n",
      "I hope this information is helpful.\n",
      "Human: Thanks a lot!\n",
      "AI: You're welcome, Rhythm! I'm glad I could be of assistance.\n",
      "Human: Can you explain the kepler's laws of planetary motion?\u001b[0m\n",
      "\n",
      "\u001b[1m> Finished chain.\u001b[0m\n"
     ]
    },
    {
     "data": {
      "text/plain": [
       "\"Sure, here's an explanation of Kepler's laws of planetary motion:\\n\\n**Kepler's Laws of Planetary Motion**\\n\\n1. **Law of Ellipses:** Each planet moves in an elliptical orbit with the Sun at one focus.\\n2. **Law of Equal Areas:** A line connecting a planet to the Sun sweeps out equal areas in equal time intervals.\\n3. **Law of Harmonies:** The square of a planet's orbital period is proportional to the cube of the semi-major axis of its orbit.\\n\\n**Key Points**\\n\\n- The planets move in elliptical orbits, not circular orbits.\\n- The planets' orbital speeds vary throughout their orbits. They move faster when they are closer to the Sun and slower when they are farther from the Sun.\\n- The orbital periods of the planets are related to the sizes of their orbits. Planets with larger orbits have longer orbital periods.\\n\\n**Significance of Kepler's Laws**\\n\\nKepler's laws were a major breakthrough in astronomy. They provided the first accurate description of the motion of the planets. Kepler's laws also played a key role in the development of Newton's law of universal gravitation.\\n\\n**Applications of Kepler's Laws**\\n\\nKepler's laws are used in a wide variety of applications, including:\\n\\n- Predicting the motion of planets, moons, and other celestial objects.\\n- Designing spacecraft trajectories.\\n- Studying the formation and evolution of planetary systems.\\n\\nI hope this explanation is helpful!\""
      ]
     },
     "execution_count": 15,
     "metadata": {},
     "output_type": "execute_result"
    }
   ],
   "source": [
    "llmchain.run({'human_input': 'Can you explain the kepler\\'s laws of planetary motion?', 'name': name})"
   ]
  },
  {
   "cell_type": "code",
   "execution_count": 40,
   "id": "64a87a0c-b997-4f70-8e82-44558643c425",
   "metadata": {},
   "outputs": [
    {
     "data": {
      "text/plain": [
       "{'chat_history': \"Human: Hello there! What is Iran's capital?\\nAI: Tehran\\nHuman: Hello there! What is Iran's capital?\\nAI: Tehran\\nHuman: Did I repeat one question twice?\\nAI: Yes, you did.\"}"
      ]
     },
     "execution_count": 40,
     "metadata": {},
     "output_type": "execute_result"
    }
   ],
   "source": [
    "memory.load_memory_variables({})"
   ]
  },
  {
   "cell_type": "code",
   "execution_count": 34,
   "id": "7da5c31c",
   "metadata": {},
   "outputs": [
    {
     "name": "stdout",
     "output_type": "stream",
     "text": [
      "\n",
      "Certainly! Johannes Kepler formulated three laws of planetary motion based on his analysis of Tycho Brahe's observational data. These laws describe the motion of planets around the Sun and laid the foundation for Isaac Newton's theory of universal gravitation.\n",
      "\n",
      "1. **Law of Orbits:**\n",
      "   - Each planet's orbit around the Sun is an ellipse, with the Sun located at one of the foci.\n",
      "   - An ellipse is a two-dimensional shape with two focal points. The eccentricity of an ellipse determines how elongated it is, with a value between 0 and 1. A circle is a special case of an ellipse with an eccentricity of 0.\n",
      "\n",
      "2. **Law of Areas:**\n",
      "   - A line connecting a planet to the Sun sweeps out equal areas in equal time intervals.\n",
      "   - This law implies that a planet's speed varies as it moves around its elliptical orbit. It is fastest when closest to the Sun (perihelion) and slowest when farthest from the Sun (aphelion).\n",
      "\n",
      "3. **Law of Periods:**\n",
      "   - The square of a planet's orbital period (the time it takes to complete one orbit) is proportional to the cube of the semi-major axis of its orbit.\n",
      "   - Mathematically, this can be expressed as: $ (T^2 = k \times a^3) $, where T is the orbital period, a is the semi-major axis (half the longest diameter of the ellipse), and k is a constant\n",
      "\n"
     ]
    }
   ],
   "source": [
    "text = '''\n",
    "Certainly! Johannes Kepler formulated three laws of planetary motion based on his analysis of Tycho Brahe's observational data. These laws describe the motion of planets around the Sun and laid the foundation for Isaac Newton's theory of universal gravitation.\n",
    "\n",
    "1. **Law of Orbits:**\n",
    "   - Each planet's orbit around the Sun is an ellipse, with the Sun located at one of the foci.\n",
    "   - An ellipse is a two-dimensional shape with two focal points. The eccentricity of an ellipse determines how elongated it is, with a value between 0 and 1. A circle is a special case of an ellipse with an eccentricity of 0.\n",
    "\n",
    "2. **Law of Areas:**\n",
    "   - A line connecting a planet to the Sun sweeps out equal areas in equal time intervals.\n",
    "   - This law implies that a planet's speed varies as it moves around its elliptical orbit. It is fastest when closest to the Sun (perihelion) and slowest when farthest from the Sun (aphelion).\n",
    "\n",
    "3. **Law of Periods:**\n",
    "   - The square of a planet's orbital period (the time it takes to complete one orbit) is proportional to the cube of the semi-major axis of its orbit.\n",
    "   - Mathematically, this can be expressed as: $ (T^2 = k \\times a^3) $, where T is the orbital period, a is the semi-major axis (half the longest diameter of the ellipse), and k is a constant\n",
    "'''\n",
    "\n",
    "\n",
    "print(text)"
   ]
  },
  {
   "cell_type": "code",
   "execution_count": null,
   "id": "98da70c1",
   "metadata": {},
   "outputs": [],
   "source": []
  },
  {
   "cell_type": "code",
   "execution_count": null,
   "id": "c98ac9ad",
   "metadata": {},
   "outputs": [],
   "source": []
  }
 ],
 "metadata": {
  "kernelspec": {
   "display_name": "Python 3 (ipykernel)",
   "language": "python",
   "name": "python3"
  },
  "language_info": {
   "codemirror_mode": {
    "name": "ipython",
    "version": 3
   },
   "file_extension": ".py",
   "mimetype": "text/x-python",
   "name": "python",
   "nbconvert_exporter": "python",
   "pygments_lexer": "ipython3",
   "version": "3.10.12"
  }
 },
 "nbformat": 4,
 "nbformat_minor": 5
}
